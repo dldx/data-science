{
 "cells": [
  {
   "cell_type": "code",
   "execution_count": 1,
   "metadata": {
    "collapsed": false
   },
   "outputs": [
    {
     "name": "stderr",
     "output_type": "stream",
     "text": [
      "Warning message:\n",
      "“replacing previous import by ‘shiny::includeHTML’ when loading ‘crosstalk’”Warning message:\n",
      "“replacing previous import by ‘shiny::knit_print.shiny.tag’ when loading ‘crosstalk’”Warning message:\n",
      "“replacing previous import by ‘shiny::code’ when loading ‘crosstalk’”Warning message:\n",
      "“replacing previous import by ‘shiny::includeScript’ when loading ‘crosstalk’”Warning message:\n",
      "“replacing previous import by ‘shiny::includeMarkdown’ when loading ‘crosstalk’”Warning message:\n",
      "“replacing previous import by ‘shiny::tags’ when loading ‘crosstalk’”Warning message:\n",
      "“replacing previous import by ‘shiny::is.singleton’ when loading ‘crosstalk’”Warning message:\n",
      "“replacing previous import by ‘shiny::withTags’ when loading ‘crosstalk’”Warning message:\n",
      "“replacing previous import by ‘shiny::img’ when loading ‘crosstalk’”Warning message:\n",
      "“replacing previous import by ‘shiny::tagAppendAttributes’ when loading ‘crosstalk’”Warning message:\n",
      "“replacing previous import by ‘shiny::knit_print.shiny.tag.list’ when loading ‘crosstalk’”Warning message:\n",
      "“replacing previous import by ‘shiny::knit_print.html’ when loading ‘crosstalk’”Warning message:\n",
      "“replacing previous import by ‘shiny::tagAppendChild’ when loading ‘crosstalk’”Warning message:\n",
      "“replacing previous import by ‘shiny::includeCSS’ when loading ‘crosstalk’”Warning message:\n",
      "“replacing previous import by ‘shiny::br’ when loading ‘crosstalk’”Warning message:\n",
      "“replacing previous import by ‘shiny::singleton’ when loading ‘crosstalk’”Warning message:\n",
      "“replacing previous import by ‘shiny::span’ when loading ‘crosstalk’”Warning message:\n",
      "“replacing previous import by ‘shiny::a’ when loading ‘crosstalk’”Warning message:\n",
      "“replacing previous import by ‘shiny::tagList’ when loading ‘crosstalk’”Warning message:\n",
      "“replacing previous import by ‘shiny::strong’ when loading ‘crosstalk’”Warning message:\n",
      "“replacing previous import by ‘shiny::tag’ when loading ‘crosstalk’”Warning message:\n",
      "“replacing previous import by ‘shiny::p’ when loading ‘crosstalk’”Warning message:\n",
      "“replacing previous import by ‘shiny::validateCssUnit’ when loading ‘crosstalk’”Warning message:\n",
      "“replacing previous import by ‘shiny::HTML’ when loading ‘crosstalk’”Warning message:\n",
      "“replacing previous import by ‘shiny::h1’ when loading ‘crosstalk’”Warning message:\n",
      "“replacing previous import by ‘shiny::h2’ when loading ‘crosstalk’”Warning message:\n",
      "“replacing previous import by ‘shiny::h3’ when loading ‘crosstalk’”Warning message:\n",
      "“replacing previous import by ‘shiny::h4’ when loading ‘crosstalk’”Warning message:\n",
      "“replacing previous import by ‘shiny::h5’ when loading ‘crosstalk’”Warning message:\n",
      "“replacing previous import by ‘shiny::h6’ when loading ‘crosstalk’”Warning message:\n",
      "“replacing previous import by ‘shiny::tagAppendChildren’ when loading ‘crosstalk’”Warning message:\n",
      "“replacing previous import by ‘shiny::em’ when loading ‘crosstalk’”Warning message:\n",
      "“replacing previous import by ‘shiny::div’ when loading ‘crosstalk’”Warning message:\n",
      "“replacing previous import by ‘shiny::pre’ when loading ‘crosstalk’”Warning message:\n",
      "“replacing previous import by ‘shiny::htmlTemplate’ when loading ‘crosstalk’”Warning message:\n",
      "“replacing previous import by ‘shiny::suppressDependencies’ when loading ‘crosstalk’”Warning message:\n",
      "“replacing previous import by ‘shiny::tagSetChildren’ when loading ‘crosstalk’”Warning message:\n",
      "“replacing previous import by ‘shiny::includeText’ when loading ‘crosstalk’”Warning message:\n",
      "“replacing previous import by ‘shiny::hr’ when loading ‘crosstalk’”\n",
      "Attaching package: ‘dplyr’\n",
      "\n",
      "The following objects are masked from ‘package:stats’:\n",
      "\n",
      "    filter, lag\n",
      "\n",
      "The following objects are masked from ‘package:base’:\n",
      "\n",
      "    intersect, setdiff, setequal, union\n",
      "\n"
     ]
    }
   ],
   "source": [
    "library(readr)\n",
    "library(leaflet)\n",
    "library(crosstalk)\n",
    "library(sp)\n",
    "library(dplyr)"
   ]
  },
  {
   "cell_type": "code",
   "execution_count": 2,
   "metadata": {
    "collapsed": false
   },
   "outputs": [],
   "source": [
    "journeys_text <- '\"id\",\"from\",\"to\",\"duration_car\",\"duration_car_traffic\",\"distance\",\"duration\",\"speedup_traffic\",\"speedup\",\"lat_from\",\"long_from\",\"lat_to\",\"long_to\"\n",
    "1,\"St Pancras\",\"Birmingham\",139.733333333333,155.7,203.495,105,1.48285714285714,1.33079365079365,51.5318810626864,-0.12558183674287,52.4774461110237,-1.89876494598884\n",
    "2,\"St Pancras\",\"Leeds\",213.116666666667,216.283333333333,310.505,149,1.45156599552572,1.43031319910515,51.5318810626864,-0.12558183674287,53.7954036883147,-1.54648959940816\n",
    "3,\"St Pancras\",\"Glasgow\",405.916666666667,416.9,662.744,291,1.43264604810997,1.39490263459336,51.5318810626864,-0.12558183674287,55.8598157580745,-4.25635960252115\n",
    "4,\"St Pancras\",\"Sheffield\",186.233333333333,189.733333333333,265.883,137,1.38491484184915,1.35936739659367,51.5318810626864,-0.12558183674287,53.3779466312297,-1.46058230158514\n",
    "5,\"St Pancras\",\"Bradford\",226.083333333333,229.216666666667,325.379,189,1.21278659611993,1.19620811287478,51.5318810626864,-0.12558183674287,53.7908548393771,-1.74808433128547\n",
    "6,\"St Pancras\",\"Edinburgh\",434.1,437.916666666667,645.885,319,1.37277951933124,1.36081504702194,51.5318810626864,-0.12558183674287,55.9524496827932,-3.18680284123936\n",
    "7,\"St Pancras\",\"Liverpool Central\",236.066666666667,246.866666666667,352.76,198,1.24680134680135,1.19225589225589,51.5318810626864,-0.12558183674287,53.404351231227,-2.97782044521494\n",
    "8,\"St Pancras\",\"Manchester\",229.35,238.783333333333,335.821,154,1.55054112554112,1.48928571428571,51.5318810626864,-0.12558183674287,53.4771110532056,-2.22946942556054\n",
    "9,\"St Pancras\",\"Bristol\",148.116666666667,152.233333333333,193.611,143,1.06456876456876,1.03578088578089,51.5318810626864,-0.12558183674287,51.4486612575213,-2.57999158987809'\n",
    "\n",
    "journeys <- read.csv(textConnection(journeys_text))"
   ]
  },
  {
   "cell_type": "code",
   "execution_count": 3,
   "metadata": {
    "collapsed": false
   },
   "outputs": [
    {
     "data": {
      "text/html": [
       "<iframe height='600' width='1000' src='  myfigure.html  '  />"
      ]
     },
     "metadata": {},
     "output_type": "display_data"
    }
   ],
   "source": [
    "colors <- colorBin(\"PuOr\", bins=c(0, 0.5, 0.8, 0.9, 1.1, 1.2, 1.5, 3))\n",
    "\n",
    "p <- leaflet() %>%\n",
    "addProviderTiles(\"CartoDB.DarkMatter\")\n",
    "\n",
    "for(j in 1:nrow(journeys)) {\n",
    "    p <- p %>% addPolylines(lat=c(journeys$lat_from[j], journeys$lat_to[j]),\n",
    "                            lng=c(journeys$long_from[j], journeys$long_to[j]),\n",
    "                           color=colors(journeys$speedup[j]), weight=1,\n",
    "                           popup = paste(journeys$from[j], \"-\", journeys$to[j], \"|\", round(journeys$speedup[j], 1)),\n",
    "                           group=journeys$from[j],\n",
    "                           opacity=0.5)\n",
    "}\n",
    "\n",
    "tf = 'myfigure.html'\n",
    "htmlwidgets::saveWidget(p, file = tf, selfcontained = F)\n",
    "IRdisplay::display_html(paste(\"<iframe height='600' width='1000' src=' \", tf, \" ' \",\"/>\"))"
   ]
  },
  {
   "cell_type": "code",
   "execution_count": 5,
   "metadata": {
    "collapsed": false
   },
   "outputs": [],
   "source": [
    "# Make a SpatialLines data frame to store all journeys\n",
    "a <- SpatialLines(lapply(journeys$id, function(x){\n",
    "    \n",
    "    Lines(Line(cbind(c(filter(journeys, id==x)$long_from, filter(journeys, id==x)$long_to),\n",
    "                    c(filter(journeys, id==x)$lat_from, filter(journeys, id==x)$lat_to))), ID = x)\n",
    "}))\n",
    "b <- SpatialLinesDataFrame(a, data=journeys)"
   ]
  },
  {
   "cell_type": "code",
   "execution_count": 6,
   "metadata": {
    "collapsed": false
   },
   "outputs": [
    {
     "ename": "ERROR",
     "evalue": "Error: Do not know how to find data associated with `x`\n",
     "output_type": "error",
     "traceback": [
      "Error: Do not know how to find data associated with `x`\nTraceback:\n",
      "1. bscols(filter_slider(\"speedup\", \"Speedup\", journeys_sd, column = ~speedup), \n .     leaflet(journeys_sd) %>% addProviderTiles(\"CartoDB.DarkMatter\") %>% \n .         addPolylines(popup = ~from))",
      "2. filter_slider(\"speedup\", \"Speedup\", journeys_sd, column = ~speedup)",
      "3. lazyeval::f_eval(column, df)",
      "4. eval_expr(expr, f_env(f), data)",
      "5. find_data(data)",
      "6. find_data.default(data)",
      "7. stop(\"Do not know how to find data associated with `x`\", call. = FALSE)"
     ]
    }
   ],
   "source": [
    "# Wrap data in SharedData\n",
    "journeys_sd <- SharedData$new(b)\n",
    "\n",
    "# Create filter for journeys\n",
    "bscols(filter_slider(\"speedup\", \"Speedup\", journeys_sd, column = ~speedup),\n",
    "\n",
    "leaflet(journeys_sd) %>%\n",
    "addProviderTiles(\"CartoDB.DarkMatter\") %>%\n",
    "addPolylines(popup = ~from))"
   ]
  }
 ],
 "metadata": {
  "anaconda-cloud": {},
  "kernelspec": {
   "display_name": "R",
   "language": "R",
   "name": "ir"
  },
  "language_info": {
   "codemirror_mode": "r",
   "file_extension": ".r",
   "mimetype": "text/x-r-source",
   "name": "R",
   "pygments_lexer": "r",
   "version": "3.2.3"
  }
 },
 "nbformat": 4,
 "nbformat_minor": 1
}
