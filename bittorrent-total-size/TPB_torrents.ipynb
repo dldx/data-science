{
 "cells": [
  {
   "cell_type": "markdown",
   "metadata": {},
   "source": [
    "# How much data is accessible over the Bittorrent network?"
   ]
  },
  {
   "cell_type": "code",
   "execution_count": 2,
   "metadata": {
    "collapsed": true
   },
   "outputs": [
    {
     "name": "stderr",
     "output_type": "stream",
     "text": [
      "\n",
      "Attaching package: ‘dplyr’\n",
      "\n",
      "The following objects are masked from ‘package:stats’:\n",
      "\n",
      "    filter, lag\n",
      "\n",
      "The following objects are masked from ‘package:base’:\n",
      "\n",
      "    intersect, setdiff, setequal, union\n",
      "\n",
      "Loading required package: ggplot2\n",
      "\n",
      "Attaching package: ‘plotly’\n",
      "\n",
      "The following object is masked from ‘package:ggplot2’:\n",
      "\n",
      "    last_plot\n",
      "\n",
      "The following object is masked from ‘package:stats’:\n",
      "\n",
      "    filter\n",
      "\n",
      "The following object is masked from ‘package:graphics’:\n",
      "\n",
      "    layout\n",
      "\n"
     ]
    }
   ],
   "source": [
    "library(readr)\n",
    "library(dplyr)\n",
    "library(plotly)"
   ]
  },
  {
   "cell_type": "markdown",
   "metadata": {},
   "source": [
    "We use a dataset assembled by [Fabio Hecht, Thomas Bocek, David Hausheer](http://www.csg.uzh.ch/publications/data/piratebay/) at the University of Zürich to do a back of the envelope calculation on the amount of data that could potentially be stored securely on a P2P network. This is an imperfect choice of dataset but it does highlight an approximate threshold for data security in p2p networks.\n",
    "\n",
    "For reference, the total size of the Internet Archive currently (Oct 2016) stands at 15 PB."
   ]
  },
  {
   "cell_type": "code",
   "execution_count": 3,
   "metadata": {
    "collapsed": true
   },
   "outputs": [
    {
     "name": "stderr",
     "output_type": "stream",
     "text": [
      "Parsed with column specification:\n",
      "cols(\n",
      "  idtorrent = col_integer(),\n",
      "  category = col_integer(),\n",
      "  size = col_double(),\n",
      "  seeders = col_integer(),\n",
      "  leechers = col_integer()\n",
      ")\n"
     ]
    }
   ],
   "source": [
    "temp <- tempfile()\n",
    "download.file(\"http://www.csg.uzh.ch/csg/dam/jcr:00000000-6205-a81d-ffff-ffff8a32c836/20081205_thepiratebay.zip\",temp)\n",
    "tpb <- read_csv(unz(temp, \"20081205_thepiratebay.csv\"))\n",
    "unlink(temp)"
   ]
  },
  {
   "cell_type": "code",
   "execution_count": 4,
   "metadata": {
    "collapsed": false
   },
   "outputs": [
    {
     "data": {
      "text/html": [
       "<iframe src=\"plotlyJupyterHTML/7519e6f21731213acff86986d9509912.html\" width=\"100%\" height=\"400\" id=\"igraph\" scrolling=\"no\" seamless=\"seamless\" frameBorder=\"0\"> </iframe>"
      ]
     },
     "metadata": {},
     "output_type": "display_data"
    }
   ],
   "source": [
    "p <- tpb %>%\n",
    "group_by(seeders) %>%\n",
    "summarise(sum=sum(size)/1024^5) %>%\n",
    "arrange(desc(seeders)) %>%\n",
    "mutate(cumsum=cumsum(sum)) %>%\n",
    "plot_ly(x=~seeders, y=~cumsum, type=\"bar\") %>%\n",
    "layout(title=\"Total data seeded, by number of seeders - 2008-2012\", xaxis = list(title=\"Number of seeders\", type = \"log\"), yaxis=list(title=\"Total data available (PB)\"))\n",
    "\n",
    "embed_notebook(p)"
   ]
  },
  {
   "cell_type": "markdown",
   "metadata": {},
   "source": [
    "The graph above shows the amount of data mirrored on the BitTorrent, by number of seeders. The more seeders there are, the more certain we are that the piece of data will be accessible for a longer period of time.\n",
    "\n",
    "This graph highlights the difficulty in storing large amounts of data for long periods of time on a P2P network. If we assume that data is safe when there are 10 seeders, then the BitTorrent network can host 0.1 PB of data safely. If we raise this threshold to 100 seeders, then only 6.2 TB of data has been secured on the network."
   ]
  }
 ],
 "metadata": {
  "anaconda-cloud": {},
  "kernelspec": {
   "display_name": "R",
   "language": "R",
   "name": "ir"
  },
  "language_info": {
   "codemirror_mode": "r",
   "file_extension": ".r",
   "mimetype": "text/x-r-source",
   "name": "R",
   "pygments_lexer": "r",
   "version": "3.2.3"
  }
 },
 "nbformat": 4,
 "nbformat_minor": 1
}
